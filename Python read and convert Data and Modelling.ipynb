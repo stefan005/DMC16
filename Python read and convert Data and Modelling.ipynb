{
 "cells": [
  {
   "cell_type": "markdown",
   "metadata": {},
   "source": [
    "# Reading Data and Create Prediction"
   ]
  },
  {
   "cell_type": "markdown",
   "metadata": {},
   "source": [
    "This Version uses V002 of the prepared Data which you can find in the bscw (not publicly available during the time of the competition)"
   ]
  },
  {
   "cell_type": "markdown",
   "metadata": {},
   "source": [
    "at first import the necessary libs:"
   ]
  },
  {
   "cell_type": "code",
   "execution_count": null,
   "metadata": {
    "collapsed": true
   },
   "outputs": [],
   "source": [
    "import pandas as pd\n",
    "from sklearn import ensemble\n",
    "from sklearn import svm\n",
    "from sklearn import preprocessing\n",
    "import numpy as np\n",
    "import xgboost as xgb"
   ]
  },
  {
   "cell_type": "markdown",
   "metadata": {},
   "source": [
    "read the data from file, obviously you should adjust the path on your system:"
   ]
  },
  {
   "cell_type": "code",
   "execution_count": null,
   "metadata": {
    "collapsed": true
   },
   "outputs": [],
   "source": [
    "trainOrigin = pd.read_csv('~/Documents/DMC16/dataPrep/DataPrepV002Train.csv')\n",
    "test = pd.read_csv('~/Documents/DMC16/dataPrep/DataPrepV002Test.csv')"
   ]
  },
  {
   "cell_type": "markdown",
   "metadata": {},
   "source": [
    "at first we need to define the methods we want to use later, so here we define the preprocess method.\n",
    "\n",
    "some hints:\n",
    "- attributetodrop is a list of attributes that i just drop. They are all of the type String and for a first working draft it doesn't make sense to transform all of them to something the algorithms can handle. This should be done later.\n",
    "\n",
    "-  attributetofillna: the empty values of these attributes will be filled. will be fixed with the next version of the dataset hopefully.\n",
    "\n",
    "- all rows with null in the original dataset are ignored for this model\n",
    "\n",
    "- LabelEncoder is similar to categoryToNumber in Knime. should be improved later, because paymentMethod should not be numeric\n"
   ]
  },
  {
   "cell_type": "code",
   "execution_count": null,
   "metadata": {
    "collapsed": true
   },
   "outputs": [],
   "source": [
    "def preprocess(train, test):\n",
    "    attributetodrop = ['row ID', 'BasketID', 'customerID', 'Buy_First', 'Buy_Last', 'orderID','articleID','sizeCode',\n",
    "                      'voucherID','price [Binned]','BasketValue [Binned]','SinglePrice [Binned]','orderDate',\n",
    "                      'RealArticleID','RealCustOrderDayID','rrp [Binned]']\n",
    "    attributetofillnan= ['Mehrfachbesteller','ExtremeBesteller','Einmalbesteller']\n",
    "    train = train.drop(attributetodrop, axis=1)\n",
    "    test = test.drop(attributetodrop, axis=1)\n",
    "\n",
    "    print(\"train.info()\")\n",
    "    print(train.info())\n",
    "\n",
    "    train= train[train.rrp.notnull()]\n",
    "    test= test[test.rrp.notnull()]\n",
    "    \n",
    "    #fillNa with 0\n",
    "    for attr in attributetofillnan:\n",
    "        train[attr]=train[attr].fillna(0)\n",
    "        test[attr]=test[attr].fillna(0)\n",
    "\n",
    "    le = preprocessing.LabelEncoder()\n",
    "    train['paymentMethod'] = le.fit_transform(train['paymentMethod'])\n",
    "    test['paymentMethod'] = le.transform(test['paymentMethod'])\n",
    "\n",
    "\n",
    "    print(train.info())\n",
    "\n",
    "    return train, test\n"
   ]
  },
  {
   "cell_type": "markdown",
   "metadata": {},
   "source": [
    "and then we need to call the method:"
   ]
  },
  {
   "cell_type": "code",
   "execution_count": null,
   "metadata": {
    "collapsed": false
   },
   "outputs": [],
   "source": [
    "train, test = preprocess(trainOrigin, test)"
   ]
  },
  {
   "cell_type": "markdown",
   "metadata": {},
   "source": [
    "After reading an preparing the data we need to remove the target variable form the dataset"
   ]
  },
  {
   "cell_type": "code",
   "execution_count": null,
   "metadata": {
    "collapsed": false
   },
   "outputs": [],
   "source": [
    "print(train.info())\n",
    "label = train[['returnQuantity']].values.ravel()\n",
    "train=train.drop(['returnQuantity'],axis=1)\n",
    "print(train.info())\n",
    "\n",
    "labelTest = test[['returnQuantity']].values.ravel()\n",
    "test=test.drop(['returnQuantity'],axis=1)"
   ]
  },
  {
   "cell_type": "markdown",
   "metadata": {},
   "source": [
    "now it's time to create a prediction"
   ]
  },
  {
   "cell_type": "code",
   "execution_count": null,
   "metadata": {
    "collapsed": true
   },
   "outputs": [],
   "source": [
    "def predict(train,label, test):\n",
    "    print(\"train\")\n",
    "    #clf = xgb.XGBClassifier(max_depth=3, n_estimators=100,learning_rate=0.05).fit(train,label)\n",
    "\n",
    "    clf = ensemble.RandomForestClassifier(n_estimators=100, n_jobs=2,)\n",
    "    #clf = svm.LinearSVC()\n",
    "    clf.fit(train, label)\n",
    "    print(\"classify\")\n",
    "    pred = clf.predict(test)\n",
    "    #test['prediction']=pred\n",
    "    #predictions = gbm.predict(test)\n",
    "    return pred"
   ]
  },
  {
   "cell_type": "markdown",
   "metadata": {},
   "source": [
    "and run it:"
   ]
  },
  {
   "cell_type": "code",
   "execution_count": null,
   "metadata": {
    "collapsed": false
   },
   "outputs": [],
   "source": [
    "print(\"train and predict\")\n",
    "pred = predict(train,label,test)"
   ]
  },
  {
   "cell_type": "markdown",
   "metadata": {},
   "source": [
    "in the end we want to know how good we are and therefore need an evaluation:"
   ]
  },
  {
   "cell_type": "code",
   "execution_count": null,
   "metadata": {
    "collapsed": true
   },
   "outputs": [],
   "source": [
    "def evaluate(pred,label):\n",
    "    summe=0\n",
    "    rowcount=0\n",
    "    print(\"len Predictions\")\n",
    "    print(len(pred))\n",
    "    for row in range(len(pred)):\n",
    "        summe=summe+abs(pred[row]-label[row])\n",
    "        rowcount=rowcount+1\n",
    "    print(\"summe Fehler\",str(summe))\n",
    "    print(\"summe rowCount\",str(rowcount))\n",
    "\n",
    "    return summe/rowcount"
   ]
  },
  {
   "cell_type": "code",
   "execution_count": null,
   "metadata": {
    "collapsed": false
   },
   "outputs": [],
   "source": [
    "print(\"evaluate\")\n",
    "print(evaluate(pred,labelTest))\n"
   ]
  },
  {
   "cell_type": "markdown",
   "metadata": {},
   "source": [
    "That's it :-)"
   ]
  }
 ],
 "metadata": {
  "kernelspec": {
   "display_name": "Python 3",
   "language": "python",
   "name": "python3"
  },
  "language_info": {
   "codemirror_mode": {
    "name": "ipython",
    "version": 3
   },
   "file_extension": ".py",
   "mimetype": "text/x-python",
   "name": "python",
   "nbconvert_exporter": "python",
   "pygments_lexer": "ipython3",
   "version": "3.5.1"
  }
 },
 "nbformat": 4,
 "nbformat_minor": 0
}
